{
 "cells": [
  {
   "cell_type": "markdown",
   "metadata": {},
   "source": [
    "## Общая информация\n",
    "\n",
    "**Срок сдачи:** 5 апреля 2022, 08:30 \n",
    "\n",
    "**Штраф за опоздание:** по 1 баллу за 24 часа задержки. Через 5 дней домашнее задание сгорает.\n",
    "\n",
    "При отправлении ДЗ указывайте фамилию в названии файла\n",
    "Присылать ДЗ необходимо в виде ссылки на свой github репозиторий на почту ml1.sphere@mail.ru с указанием темы в следующем формате:\n",
    "\n",
    "[ML0220, Задание 1] Фамилия Имя.\n",
    "\n",
    "Используйте данный Ipython Notebook при оформлении домашнего задания."
   ]
  },
  {
   "cell_type": "markdown",
   "metadata": {},
   "source": [
    "\n",
    "**Штрафные баллы:**\n",
    "\n",
    "1. Отсутствие фамилии в имени скрипта (скрипт должен называться по аналогии со stroykova_hw1.ipynb) -0.5 баллов\n",
    "2. Все строчки должны быть выполнены. Нужно, чтобы output команды можно было увидеть уже в git'е. В противном случае -0.5 баллов\n"
   ]
  },
  {
   "cell_type": "code",
   "execution_count": 1,
   "metadata": {
    "jupyter": {
     "outputs_hidden": true
    }
   },
   "outputs": [],
   "source": [
    "import numpy as np\n",
    "import matplotlib.pyplot as plt\n",
    "\n",
    "import seaborn as sns\n",
    "from sklearn import datasets\n",
    "from sklearn.base import BaseEstimator\n",
    "from sklearn.datasets import fetch_openml, fetch_20newsgroups\n",
    "\n",
    "from sklearn.model_selection import train_test_split\n",
    "from sklearn.neighbors import KNeighborsClassifier\n",
    "from sklearn.metrics import accuracy_score"
   ]
  },
  {
   "cell_type": "markdown",
   "metadata": {},
   "source": [
    "### Задание 1 (1 балл)\n",
    "Реализовать KNN в классе MyKNeighborsClassifier (обязательное условие: точность не ниже sklearn реализации)\n",
    "Разберитесь самостоятельно, какая мера расстояния используется в KNeighborsClassifier дефолтно и реализуйте свой алгоритм именно с этой мерой. \n",
    "Для подсчета расстояний можно использовать функции [отсюда](https://docs.scipy.org/doc/scipy/reference/spatial.distance.html)"
   ]
  },
  {
   "cell_type": "code",
   "execution_count": 25,
   "metadata": {
    "jupyter": {
     "outputs_hidden": true
    }
   },
   "outputs": [],
   "source": [
    "import sklearn.neighbors\n",
    "from sklearn.neighbors import KDTree\n",
    "\n",
    "class MyKNeighborsClassifier(BaseEstimator):\n",
    "    \n",
    "    def __init__(self, n_neighbors, algorithm='brute', metric='euclidean', kf = False):\n",
    "        self.k = n_neighbors\n",
    "        self.X_train = None\n",
    "        self.y_train = None\n",
    "        self.model = None\n",
    "        self.algorithm = algorithm\n",
    "        self.dist = None\n",
    "        self.ind = None\n",
    "        self.kf = kf\n",
    "        self.metric = metric\n",
    "    \n",
    "    def fit(self, X, y, prev_dist = None, prev_ind = None):\n",
    "        if self.algorithm != \"brute\":\n",
    "            '''self.model = sklearn.neighbors.NearestNeighbors(n_neighbors=self.k, algorithm=self.algorithm)\n",
    "            self.model.fit(X)'''\n",
    "        self.tree = KDTree(X, leaf_size=2) \n",
    "        self.X_train = X\n",
    "        self.y_train = y\n",
    "        if prev_dist is not None:\n",
    "            self.ind = prev_ind\n",
    "            self.dist = prev_dist\n",
    "\n",
    "    \n",
    "    \n",
    "    def minkowski_dist(self, X, Y):\n",
    "        # в sklearn p = 2 по умолчанию, что эквивалентно метрике \"eculidean distance\": \n",
    "        a = np.repeat(np.sum(X ** 2, axis=1)[:, None], np.shape(Y)[0], axis=1)\n",
    "        b = np.tile(np.sum(Y ** 2, axis=1), (np.shape(X)[0], 1))\n",
    "        c = 2 * (X @ Y.T)\n",
    "        return np.sqrt(a+b-c)\n",
    "    \n",
    "    def cosine_dist(self, X, Y):\n",
    "        a = X @ Y.T\n",
    "        b = np.sum(X ** 2, axis=1)[:, None]\n",
    "        c = np.sum(Y ** 2, axis=1)\n",
    "        return 1 - a / np.sqrt(b * c)\n",
    "        \n",
    "    \n",
    "    def find_kneighbors(self, X):\n",
    "        if self.algorithm != \"brute\":\n",
    "            dist, ind = self.tree.query(X, k=self.k)\n",
    "            \n",
    "        if self.metric == 'euclidean':\n",
    "            distances = self.minkowski_dist(X, self.X_train)\n",
    "        elif self.metric == 'cosine':\n",
    "            distances = self.cosine_dist(X, self.X_train)\n",
    "        \n",
    "        ind = np.argsort(distances)[:, :self.k]\n",
    "        dist = np.zeros((np.shape(distances)[0], self.k))\n",
    "        \n",
    "        for i in range(np.shape(distances)[0]):\n",
    "            dist[i] = distances[i][ind[i]]\n",
    "\n",
    "        return dist, ind\n",
    "\n",
    "    def predict(self, X):\n",
    "        if self.dist is None:\n",
    "            answ = np.zeros(np.shape(X)[0])\n",
    "\n",
    "            distances, b = self.find_kneighbors(X)\n",
    "            self.dist = distances\n",
    "            self.ind = b\n",
    "            y = self.y_train[b]\n",
    "\n",
    "        else:\n",
    "            distances = self.dist[:,:self.k]\n",
    "            b = self.ind[:,:self.k]\n",
    "            y = self.y_train[b]\n",
    "\n",
    "        def bincounter(x):\n",
    "            return np.argmax(np.bincount(x))\n",
    "\n",
    "        answ = np.apply_along_axis(bincounter, 1, y)\n",
    "        if self.kf:\n",
    "            return answ, self.dist, self.ind\n",
    "        return answ"
   ]
  },
  {
   "cell_type": "markdown",
   "metadata": {},
   "source": [
    "**IRIS**\n",
    "\n",
    "В библиотеке scikit-learn есть несколько датасетов из коробки. Один из них [Ирисы Фишера](https://ru.wikipedia.org/wiki/%D0%98%D1%80%D0%B8%D1%81%D1%8B_%D0%A4%D0%B8%D1%88%D0%B5%D1%80%D0%B0)"
   ]
  },
  {
   "cell_type": "code",
   "execution_count": 26,
   "metadata": {
    "jupyter": {
     "outputs_hidden": true
    }
   },
   "outputs": [],
   "source": [
    "iris = datasets.load_iris()"
   ]
  },
  {
   "cell_type": "code",
   "execution_count": 27,
   "metadata": {
    "jupyter": {
     "outputs_hidden": true
    }
   },
   "outputs": [],
   "source": [
    "X_train, X_test, y_train, y_test = train_test_split(iris.data, iris.target, test_size=0.1, stratify=iris.target)"
   ]
  },
  {
   "cell_type": "code",
   "execution_count": 28,
   "metadata": {
    "jupyter": {
     "outputs_hidden": true
    }
   },
   "outputs": [],
   "source": [
    "clf = KNeighborsClassifier(n_neighbors=2, algorithm='brute')\n",
    "my_clf = MyKNeighborsClassifier(n_neighbors=2, algorithm='brute')"
   ]
  },
  {
   "cell_type": "code",
   "execution_count": 29,
   "metadata": {
    "jupyter": {
     "outputs_hidden": true
    }
   },
   "outputs": [],
   "source": [
    "clf.fit(X_train, y_train)\n",
    "my_clf.fit(X_train, y_train)"
   ]
  },
  {
   "cell_type": "code",
   "execution_count": 30,
   "metadata": {
    "jupyter": {
     "outputs_hidden": true
    }
   },
   "outputs": [],
   "source": [
    "sklearn_pred = clf.predict(X_test)\n",
    "my_clf_pred = my_clf.predict(X_test)\n",
    "assert abs( accuracy_score(y_test, my_clf_pred) -  accuracy_score(y_test, sklearn_pred ) )<0.005, \"Score must be simillar\""
   ]
  },
  {
   "cell_type": "markdown",
   "metadata": {},
   "source": [
    "### Задание 2 (0.5 балла)\n",
    "\n",
    "Давайте попробуем добиться скорости работы на fit, predict сравнимой со sklearn для iris. Допускается замедление не более чем в 2 раза. \n",
    "Для этого используем numpy. "
   ]
  },
  {
   "cell_type": "code",
   "execution_count": 33,
   "metadata": {
    "jupyter": {
     "outputs_hidden": true
    }
   },
   "outputs": [
    {
     "name": "stdout",
     "output_type": "stream",
     "text": [
      "Wall time: 999 µs\n"
     ]
    },
    {
     "data": {
      "text/plain": [
       "KNeighborsClassifier(algorithm='brute', n_neighbors=2)"
      ]
     },
     "execution_count": 33,
     "metadata": {},
     "output_type": "execute_result"
    }
   ],
   "source": [
    "%time clf.fit(X_train, y_train)"
   ]
  },
  {
   "cell_type": "code",
   "execution_count": 34,
   "metadata": {
    "jupyter": {
     "outputs_hidden": true
    }
   },
   "outputs": [
    {
     "name": "stdout",
     "output_type": "stream",
     "text": [
      "Wall time: 1.01 ms\n"
     ]
    }
   ],
   "source": [
    "%time my_clf.fit(X_train, y_train)"
   ]
  },
  {
   "cell_type": "code",
   "execution_count": 35,
   "metadata": {
    "jupyter": {
     "outputs_hidden": true
    }
   },
   "outputs": [
    {
     "name": "stdout",
     "output_type": "stream",
     "text": [
      "Wall time: 3.2 ms\n"
     ]
    },
    {
     "data": {
      "text/plain": [
       "array([0, 0, 1, 1, 1, 2, 2, 1, 0, 0, 2, 0, 1, 2, 2])"
      ]
     },
     "execution_count": 35,
     "metadata": {},
     "output_type": "execute_result"
    }
   ],
   "source": [
    "%time clf.predict(X_test)"
   ]
  },
  {
   "cell_type": "code",
   "execution_count": 36,
   "metadata": {
    "jupyter": {
     "outputs_hidden": true
    }
   },
   "outputs": [
    {
     "name": "stdout",
     "output_type": "stream",
     "text": [
      "Wall time: 1e+03 µs\n"
     ]
    },
    {
     "data": {
      "text/plain": [
       "array([0, 0, 1, 1, 1, 2, 2, 1, 0, 0, 2, 0, 1, 2, 2], dtype=int64)"
      ]
     },
     "execution_count": 36,
     "metadata": {},
     "output_type": "execute_result"
    }
   ],
   "source": [
    "%time my_clf.predict(X_test)"
   ]
  },
  {
   "cell_type": "markdown",
   "metadata": {},
   "source": [
    "### Задание 3 (1 балл)\n",
    "Добавьте algorithm='kd_tree' в реализацию KNN (использовать KDTree из sklearn.neighbors). Необходимо добиться скорости работы на fit,  predict сравнимой со sklearn для iris. Допускается замедление не более чем в 2 раза. \n",
    "Для этого используем numpy. Точность не должна уступать значению KNN из sklearn. "
   ]
  },
  {
   "cell_type": "code",
   "execution_count": 37,
   "metadata": {
    "jupyter": {
     "outputs_hidden": true
    }
   },
   "outputs": [],
   "source": [
    "clf = KNeighborsClassifier(n_neighbors=2, algorithm='kd_tree')\n",
    "my_clf = MyKNeighborsClassifier(n_neighbors=2, algorithm='kd_tree')"
   ]
  },
  {
   "cell_type": "code",
   "execution_count": 38,
   "metadata": {
    "jupyter": {
     "outputs_hidden": true
    }
   },
   "outputs": [],
   "source": [
    "X_train, X_test, y_train, y_test = train_test_split(iris.data, iris.target, test_size=0.1, stratify=iris.target)"
   ]
  },
  {
   "cell_type": "code",
   "execution_count": 39,
   "metadata": {
    "jupyter": {
     "outputs_hidden": true
    }
   },
   "outputs": [
    {
     "name": "stdout",
     "output_type": "stream",
     "text": [
      "Wall time: 1 ms\n"
     ]
    },
    {
     "data": {
      "text/plain": [
       "KNeighborsClassifier(algorithm='kd_tree', n_neighbors=2)"
      ]
     },
     "execution_count": 39,
     "metadata": {},
     "output_type": "execute_result"
    }
   ],
   "source": [
    "%time clf.fit(X_train, y_train)"
   ]
  },
  {
   "cell_type": "code",
   "execution_count": 40,
   "metadata": {
    "jupyter": {
     "outputs_hidden": true
    }
   },
   "outputs": [
    {
     "name": "stdout",
     "output_type": "stream",
     "text": [
      "Wall time: 999 µs\n"
     ]
    }
   ],
   "source": [
    "%time my_clf.fit(X_train, y_train)"
   ]
  },
  {
   "cell_type": "code",
   "execution_count": 41,
   "metadata": {
    "jupyter": {
     "outputs_hidden": true
    }
   },
   "outputs": [
    {
     "name": "stdout",
     "output_type": "stream",
     "text": [
      "Wall time: 5 ms\n"
     ]
    },
    {
     "data": {
      "text/plain": [
       "array([1, 0, 2, 0, 2, 0, 2, 1, 1, 2, 1, 1, 0, 1, 0])"
      ]
     },
     "execution_count": 41,
     "metadata": {},
     "output_type": "execute_result"
    }
   ],
   "source": [
    "%time clf.predict(X_test)"
   ]
  },
  {
   "cell_type": "code",
   "execution_count": 42,
   "metadata": {
    "jupyter": {
     "outputs_hidden": true
    }
   },
   "outputs": [
    {
     "name": "stdout",
     "output_type": "stream",
     "text": [
      "Wall time: 3 ms\n"
     ]
    },
    {
     "data": {
      "text/plain": [
       "array([1, 0, 2, 0, 2, 0, 2, 1, 1, 2, 1, 1, 0, 1, 0], dtype=int64)"
      ]
     },
     "execution_count": 42,
     "metadata": {},
     "output_type": "execute_result"
    }
   ],
   "source": [
    "%time my_clf.predict(X_test)"
   ]
  },
  {
   "cell_type": "code",
   "execution_count": 43,
   "metadata": {
    "jupyter": {
     "outputs_hidden": true
    }
   },
   "outputs": [],
   "source": [
    "sklearn_pred = clf.predict(X_test)\n",
    "my_clf_pred = my_clf.predict(X_test)\n",
    "assert abs( accuracy_score(y_test, my_clf_pred) -  accuracy_score(y_test, sklearn_pred ) )<0.005, \"Score must be simillar\""
   ]
  },
  {
   "cell_type": "markdown",
   "metadata": {},
   "source": [
    "### Задание 4 (2.5 балла)\n",
    "\n",
    "Рассмотрим новый датасет 20 newsgroups"
   ]
  },
  {
   "cell_type": "code",
   "execution_count": 3,
   "metadata": {
    "jupyter": {
     "outputs_hidden": true
    }
   },
   "outputs": [],
   "source": [
    "newsgroups = fetch_20newsgroups(subset='train',remove=['headers','footers', 'quotes'])"
   ]
  },
  {
   "cell_type": "code",
   "execution_count": 4,
   "metadata": {
    "jupyter": {
     "outputs_hidden": true
    }
   },
   "outputs": [],
   "source": [
    "data = newsgroups['data']\n",
    "target = newsgroups['target']"
   ]
  },
  {
   "cell_type": "markdown",
   "metadata": {},
   "source": [
    "Преобразуйте текстовые данные из data с помощью [CountVectorizer](https://scikit-learn.org/stable/modules/generated/sklearn.feature_extraction.text.CountVectorizer.html). Словарь можно ограничить по частотности."
   ]
  },
  {
   "cell_type": "code",
   "execution_count": 7,
   "metadata": {
    "jupyter": {
     "outputs_hidden": true
    }
   },
   "outputs": [],
   "source": [
    "from sklearn.feature_extraction.text import CountVectorizer\n",
    "vectorizer = CountVectorizer(min_df = 0.002)\n",
    "\n",
    "data_transformed = np.array(vectorizer.fit_transform(data).todense())"
   ]
  },
  {
   "cell_type": "markdown",
   "metadata": {},
   "source": [
    "*Так мы получили векторное представление наших текстов. Значит можно приступать к задаче обучения модели*"
   ]
  },
  {
   "cell_type": "markdown",
   "metadata": {},
   "source": [
    "Реализуйте разбиение выборки для кросс-валидации на 3 фолдах. Разрешено использовать sklearn.cross_validation"
   ]
  },
  {
   "cell_type": "code",
   "execution_count": 9,
   "metadata": {
    "jupyter": {
     "outputs_hidden": true
    }
   },
   "outputs": [],
   "source": [
    "from sklearn.model_selection import KFold\n",
    "kfolds = KFold(n_splits=3)"
   ]
  },
  {
   "cell_type": "markdown",
   "metadata": {},
   "source": [
    "Напишите метод, позволяющий найти оптимальное количество ближайших соседей(дающее максимальную точность в среднем на валидации на 3 фолдах).\n",
    "Постройте график зависимости средней точности от количества соседей. Можно рассмотреть число соседей от 1 до 10."
   ]
  },
  {
   "cell_type": "code",
   "execution_count": 10,
   "metadata": {
    "jupyter": {
     "outputs_hidden": true
    },
    "scrolled": true
   },
   "outputs": [
    {
     "name": "stdout",
     "output_type": "stream",
     "text": [
      "n =  15\n",
      "n =  14\n",
      "n =  13\n",
      "n =  12\n",
      "n =  11\n",
      "n =  10\n",
      "n =  9\n",
      "n =  8\n",
      "n =  7\n",
      "n =  6\n",
      "n =  5\n",
      "n =  4\n",
      "n =  3\n",
      "n =  2\n",
      "n =  15\n",
      "n =  14\n",
      "n =  13\n",
      "n =  12\n",
      "n =  11\n",
      "n =  10\n",
      "n =  9\n",
      "n =  8\n",
      "n =  7\n",
      "n =  6\n",
      "n =  5\n",
      "n =  4\n",
      "n =  3\n",
      "n =  2\n",
      "n =  15\n",
      "n =  14\n",
      "n =  13\n",
      "n =  12\n",
      "n =  11\n",
      "n =  10\n",
      "n =  9\n",
      "n =  8\n",
      "n =  7\n",
      "n =  6\n",
      "n =  5\n",
      "n =  4\n",
      "n =  3\n",
      "n =  2\n"
     ]
    }
   ],
   "source": [
    "from sklearn.metrics import accuracy_score\n",
    "import matplotlib.pyplot as plt\n",
    "\n",
    "\n",
    "nums = list(range(15, 1, -1))\n",
    "\n",
    "final_sc = np.zeros((3,14))\n",
    "X = data_transformed\n",
    "y = target\n",
    "c = 0 \n",
    "for train_index, test_index in kfolds.split(X):\n",
    "    scores = []\n",
    "    X_train, X_val = X[train_index], X[test_index]\n",
    "    y_train, y_val = y[train_index], y[test_index]\n",
    "    for n in nums: \n",
    "        if n == 15:\n",
    "            model = MyKNeighborsClassifier(n_neighbors=n, algorithm='brute', kf = True)\n",
    "            print(\"n = \", n)\n",
    "            model.fit(X_train, y_train)\n",
    "            y_pred, prev_dist, prev_ind = model.predict(X_val)\n",
    "            scores.append(accuracy_score(y_val, y_pred))\n",
    "        else:\n",
    "            model = MyKNeighborsClassifier(n_neighbors=n, algorithm='brute')\n",
    "            print(\"n = \", n)\n",
    "            model.fit(X_train, y_train, prev_dist, prev_ind)\n",
    "            y_pred = model.predict(X_val)\n",
    "            scores.append(accuracy_score(y_val, y_pred))\n",
    "    final_sc[c] = scores\n",
    "    c+=1\n",
    "\n",
    "      "
   ]
  },
  {
   "cell_type": "code",
   "execution_count": 11,
   "metadata": {},
   "outputs": [],
   "source": [
    "answ = np.mean(final_sc, axis = 0)"
   ]
  },
  {
   "cell_type": "code",
   "execution_count": 12,
   "metadata": {},
   "outputs": [
    {
     "data": {
      "image/png": "[encoded data removed]",
      "text/plain": [
       "<Figure size 432x288 with 1 Axes>"
      ]
     },
     "metadata": {
      "needs_background": "light"
     },
     "output_type": "display_data"
    },
    {
     "name": "stdout",
     "output_type": "stream",
     "text": [
      "Best score with n_neighbors =  12\n",
      "Best score on euclidean metric and CountVectorizer =  0.19312376202866866\n"
     ]
    }
   ],
   "source": [
    "plt.plot(nums, answ)\n",
    "plt.title(\"Accuracy KNeighbors\")\n",
    "plt.xlabel(\"n_neighbors\")\n",
    "plt.ylabel(\"Score\")\n",
    "plt.grid()\n",
    "plt.xticks(nums, rotation = 90)\n",
    "plt.show()\n",
    "\n",
    "print(\"Best score with n_neighbors = \", nums[np.argmax(answ)])\n",
    "print(\"Best score on euclidean metric and CountVectorizer = \", max(answ))"
   ]
  },
  {
   "cell_type": "code",
   "execution_count": 13,
   "metadata": {
    "scrolled": true
   },
   "outputs": [
    {
     "name": "stdout",
     "output_type": "stream",
     "text": [
      "n =  15\n",
      "n =  14\n",
      "n =  13\n",
      "n =  12\n",
      "n =  11\n",
      "n =  10\n",
      "n =  9\n",
      "n =  8\n",
      "n =  7\n",
      "n =  6\n",
      "n =  5\n",
      "n =  4\n",
      "n =  3\n",
      "n =  2\n",
      "n =  15\n",
      "n =  14\n",
      "n =  13\n",
      "n =  12\n",
      "n =  11\n",
      "n =  10\n",
      "n =  9\n",
      "n =  8\n",
      "n =  7\n",
      "n =  6\n",
      "n =  5\n",
      "n =  4\n",
      "n =  3\n",
      "n =  2\n",
      "n =  15\n",
      "n =  14\n",
      "n =  13\n",
      "n =  12\n",
      "n =  11\n",
      "n =  10\n",
      "n =  9\n",
      "n =  8\n",
      "n =  7\n",
      "n =  6\n",
      "n =  5\n",
      "n =  4\n",
      "n =  3\n",
      "n =  2\n"
     ]
    }
   ],
   "source": [
    "from sklearn.metrics import accuracy_score\n",
    "import matplotlib.pyplot as plt\n",
    "np.seterr(divide='ignore', invalid='ignore')\n",
    "\n",
    "\n",
    "nums = list(range(15, 1, -1))\n",
    "\n",
    "final_sc = np.zeros((3,14))\n",
    "X = data_transformed\n",
    "y = target\n",
    "c = 0 \n",
    "for train_index, test_index in kfolds.split(X):\n",
    "    scores = []\n",
    "    X_train, X_val = X[train_index], X[test_index]\n",
    "    y_train, y_val = y[train_index], y[test_index]\n",
    "    for n in nums: \n",
    "        if n == 15:\n",
    "            model = MyKNeighborsClassifier(n_neighbors=n, algorithm='brute', metric='cosine', kf = True)\n",
    "            print(\"n = \", n)\n",
    "            model.fit(X_train, y_train)\n",
    "            y_pred, prev_dist, prev_ind = model.predict(X_val)\n",
    "            scores.append(accuracy_score(y_val, y_pred))\n",
    "        else:\n",
    "            model = MyKNeighborsClassifier(n_neighbors=n, algorithm='brute')\n",
    "            print(\"n = \", n)\n",
    "            model.fit(X_train, y_train, prev_dist, prev_ind)\n",
    "            y_pred = model.predict(X_val)\n",
    "            scores.append(accuracy_score(y_val, y_pred))\n",
    "    final_sc[c] = scores\n",
    "    c+=1\n",
    "\n",
    "      "
   ]
  },
  {
   "cell_type": "code",
   "execution_count": 14,
   "metadata": {},
   "outputs": [
    {
     "data": {
      "image/png": "[encoded data removed]",
      "text/plain": [
       "<Figure size 432x288 with 1 Axes>"
      ]
     },
     "metadata": {
      "needs_background": "light"
     },
     "output_type": "display_data"
    },
    {
     "name": "stdout",
     "output_type": "stream",
     "text": [
      "Best score with n_neighbors =  2\n",
      "Best score on cosine metric and CountVectorizer =  0.26701394776737014\n"
     ]
    }
   ],
   "source": [
    "answ = np.mean(final_sc, axis = 0)\n",
    "plt.plot(nums, answ)\n",
    "plt.title(\"Accuracy KNeighbors\")\n",
    "plt.xlabel(\"n_neighbors\")\n",
    "plt.ylabel(\"Score\")\n",
    "plt.grid()\n",
    "plt.xticks(nums, rotation = 90)\n",
    "plt.show()\n",
    "\n",
    "print(\"Best score with n_neighbors = \", nums[np.argmax(answ)])\n",
    "print(\"Best score on cosine metric and CountVectorizer = \", max(answ))"
   ]
  },
  {
   "cell_type": "code",
   "execution_count": 61,
   "metadata": {},
   "outputs": [],
   "source": [
    "from sklearn.feature_extraction.text import TfidfVectorizer\n",
    "vectorizer = TfidfVectorizer(min_df = 0.0001)\n",
    "X = np.array(vectorizer.fit_transform(data).todense())\n",
    "y = target"
   ]
  },
  {
   "cell_type": "code",
   "execution_count": 62,
   "metadata": {},
   "outputs": [
    {
     "name": "stdout",
     "output_type": "stream",
     "text": [
      "n =  15\n",
      "n =  14\n",
      "n =  13\n",
      "n =  12\n",
      "n =  11\n",
      "n =  10\n",
      "n =  9\n",
      "n =  8\n",
      "n =  7\n",
      "n =  6\n",
      "n =  5\n",
      "n =  4\n",
      "n =  3\n",
      "n =  2\n",
      "n =  15\n",
      "n =  14\n",
      "n =  13\n",
      "n =  12\n",
      "n =  11\n",
      "n =  10\n",
      "n =  9\n",
      "n =  8\n",
      "n =  7\n",
      "n =  6\n",
      "n =  5\n",
      "n =  4\n",
      "n =  3\n",
      "n =  2\n",
      "n =  15\n",
      "n =  14\n",
      "n =  13\n",
      "n =  12\n",
      "n =  11\n",
      "n =  10\n",
      "n =  9\n",
      "n =  8\n",
      "n =  7\n",
      "n =  6\n",
      "n =  5\n",
      "n =  4\n",
      "n =  3\n",
      "n =  2\n"
     ]
    }
   ],
   "source": [
    "from sklearn.metrics import accuracy_score\n",
    "import matplotlib.pyplot as plt\n",
    "\n",
    "\n",
    "nums = list(range(15, 1, -1))\n",
    "\n",
    "final_sc = np.zeros((3,14))\n",
    "c = 0 \n",
    "for train_index, test_index in kfolds.split(X):\n",
    "    scores = []\n",
    "    X_train, X_val = X[train_index], X[test_index]\n",
    "    y_train, y_val = y[train_index], y[test_index]\n",
    "    for n in nums: \n",
    "        if n == 15:\n",
    "            model = MyKNeighborsClassifier(n_neighbors=n, algorithm='brute', kf = True)\n",
    "            print(\"n = \", n)\n",
    "            model.fit(X_train, y_train)\n",
    "            y_pred, prev_dist, prev_ind = model.predict(X_val)\n",
    "            scores.append(accuracy_score(y_val, y_pred))\n",
    "        else:\n",
    "            model = MyKNeighborsClassifier(n_neighbors=n, algorithm='brute')\n",
    "            print(\"n = \", n)\n",
    "            model.fit(X_train, y_train, prev_dist, prev_ind)\n",
    "            y_pred = model.predict(X_val)\n",
    "            scores.append(accuracy_score(y_val, y_pred))\n",
    "    final_sc[c] = scores\n",
    "    c+=1"
   ]
  },
  {
   "cell_type": "code",
   "execution_count": 63,
   "metadata": {},
   "outputs": [
    {
     "data": {
      "image/png": "[encoded data removed]",
      "text/plain": [
       "<Figure size 432x288 with 1 Axes>"
      ]
     },
     "metadata": {
      "needs_background": "light"
     },
     "output_type": "display_data"
    },
    {
     "name": "stdout",
     "output_type": "stream",
     "text": [
      "Best score with n_neighbors =  2\n",
      "Best score on euclidean metric and TfidfVectorizer =  0.125154443236176\n"
     ]
    }
   ],
   "source": [
    "answ = np.mean(final_sc, axis = 0)\n",
    "plt.plot(nums, answ)\n",
    "plt.title(\"Accuracy KNeighbors\")\n",
    "plt.xlabel(\"n_neighbors\")\n",
    "plt.ylabel(\"Score\")\n",
    "plt.grid()\n",
    "plt.xticks(nums, rotation = 90)\n",
    "plt.show()\n",
    "\n",
    "print(\"Best score with n_neighbors = \", nums[np.argmax(answ)])\n",
    "print(\"Best score on euclidean metric and TfidfVectorizer = \", max(answ))"
   ]
  },
  {
   "cell_type": "code",
   "execution_count": 64,
   "metadata": {},
   "outputs": [
    {
     "name": "stdout",
     "output_type": "stream",
     "text": [
      "n =  15\n",
      "n =  14\n",
      "n =  13\n",
      "n =  12\n",
      "n =  11\n",
      "n =  10\n",
      "n =  9\n",
      "n =  8\n",
      "n =  7\n",
      "n =  6\n",
      "n =  5\n",
      "n =  4\n",
      "n =  3\n",
      "n =  2\n",
      "n =  15\n",
      "n =  14\n",
      "n =  13\n",
      "n =  12\n",
      "n =  11\n",
      "n =  10\n",
      "n =  9\n",
      "n =  8\n",
      "n =  7\n",
      "n =  6\n",
      "n =  5\n",
      "n =  4\n",
      "n =  3\n",
      "n =  2\n",
      "n =  15\n",
      "n =  14\n",
      "n =  13\n",
      "n =  12\n",
      "n =  11\n",
      "n =  10\n",
      "n =  9\n",
      "n =  8\n",
      "n =  7\n",
      "n =  6\n",
      "n =  5\n",
      "n =  4\n",
      "n =  3\n",
      "n =  2\n"
     ]
    }
   ],
   "source": [
    "from sklearn.metrics import accuracy_score\n",
    "import matplotlib.pyplot as plt\n",
    "\n",
    "\n",
    "nums = list(range(15, 1, -1))\n",
    "\n",
    "final_sc = np.zeros((3,14))\n",
    "c = 0 \n",
    "for train_index, test_index in kfolds.split(X):\n",
    "    scores = []\n",
    "    X_train, X_val = X[train_index], X[test_index]\n",
    "    y_train, y_val = y[train_index], y[test_index]\n",
    "    for n in nums: \n",
    "        if n == 15:\n",
    "            model = MyKNeighborsClassifier(n_neighbors=n, algorithm='brute', metric='cosine', kf = True)\n",
    "            print(\"n = \", n)\n",
    "            model.fit(X_train, y_train)\n",
    "            y_pred, prev_dist, prev_ind = model.predict(X_val)\n",
    "            scores.append(accuracy_score(y_val, y_pred))\n",
    "        else:\n",
    "            model = MyKNeighborsClassifier(n_neighbors=n, algorithm='brute')\n",
    "            print(\"n = \", n)\n",
    "            model.fit(X_train, y_train, prev_dist, prev_ind)\n",
    "            y_pred = model.predict(X_val)\n",
    "            scores.append(accuracy_score(y_val, y_pred))\n",
    "    final_sc[c] = scores\n",
    "    c+=1"
   ]
  },
  {
   "cell_type": "code",
   "execution_count": 65,
   "metadata": {},
   "outputs": [
    {
     "data": {
      "image/png": "[encoded data removed]",
      "text/plain": [
       "<Figure size 432x288 with 1 Axes>"
      ]
     },
     "metadata": {
      "needs_background": "light"
     },
     "output_type": "display_data"
    },
    {
     "name": "stdout",
     "output_type": "stream",
     "text": [
      "Best score with n_neighbors =  7\n",
      "Best score on cosine metric and TfidfVectorizer =  0.57804493258865\n"
     ]
    }
   ],
   "source": [
    "answ = np.mean(final_sc, axis = 0)\n",
    "plt.plot(nums, answ)\n",
    "plt.title(\"Accuracy KNeighbors\")\n",
    "plt.xlabel(\"n_neighbors\")\n",
    "plt.ylabel(\"Score\")\n",
    "plt.grid()\n",
    "plt.xticks(nums, rotation = 90)\n",
    "plt.show()\n",
    "\n",
    "print(\"Best score with n_neighbors = \", nums[np.argmax(answ)])\n",
    "print(\"Best score on cosine metric and TfidfVectorizer = \", max(answ))"
   ]
  },
  {
   "cell_type": "markdown",
   "metadata": {},
   "source": [
    "Как изменится качество на валидации, если:\n",
    "\n",
    "1. Используется косинусная метрика вместо евклидовой.\n",
    "2. К текстам применяется TfIdf векторизацию( sklearn.feature_extraction.text.TfidfVectorizer)\n",
    "\n",
    "Сравните модели, выберите лучшую."
   ]
  },
  {
   "cell_type": "markdown",
   "metadata": {},
   "source": [
    "**Ответ:** Как мы видим наилучшего результата на валидации удается достичь при параметрах n_neighbors=11, metric='cosine' с представлением текста с помощью TfidfVectorizer."
   ]
  },
  {
   "cell_type": "markdown",
   "metadata": {},
   "source": [
    "Загрузим  теперь test  часть нашей выборки и преобразуем её аналогично с train частью. Не забудьте, что наборы слов в train и test части могут отличаться."
   ]
  },
  {
   "cell_type": "code",
   "execution_count": 66,
   "metadata": {
    "jupyter": {
     "outputs_hidden": true
    }
   },
   "outputs": [],
   "source": [
    "newsgroups = fetch_20newsgroups(subset='test',remove=['headers','footers', 'quotes'])\n",
    "data_test = newsgroups['data']\n",
    "target_test = newsgroups['target']"
   ]
  },
  {
   "cell_type": "markdown",
   "metadata": {},
   "source": [
    "Оценим точность вашей лучшей модели на test части датасета. Отличается ли оно от кросс-валидации? Попробуйте сделать выводы, почему отличается качество."
   ]
  },
  {
   "cell_type": "code",
   "execution_count": 67,
   "metadata": {
    "jupyter": {
     "outputs_hidden": true
    }
   },
   "outputs": [
    {
     "name": "stdout",
     "output_type": "stream",
     "text": [
      "Accuracy on test = 0.5157992565055762\n"
     ]
    }
   ],
   "source": [
    "from sklearn.feature_extraction.text import TfidfVectorizer\n",
    "vectorizer = TfidfVectorizer(min_df = 0.0001)\n",
    "X_train = np.array(vectorizer.fit_transform(data).todense())\n",
    "X_test = np.array(vectorizer.transform(data_test).todense())\n",
    "y_train = target\n",
    "y_test = target_test\n",
    "\n",
    "model = MyKNeighborsClassifier(n_neighbors=7, algorithm='brute', metric='cosine')\n",
    "model.fit(X_train, y_train)\n",
    "y_pred = model.predict(X_test)\n",
    "\n",
    "print(\"Accuracy on test =\", accuracy_score(y_test, y_pred))"
   ]
  },
  {
   "cell_type": "markdown",
   "metadata": {},
   "source": [
    "**Ответ:** Качество на тесте немного ниже, чем на валидации, что может быть связано с увеличением объектов для обучения и возможным небольшим переобучением из-за этого. Так же, качество на валидации зависит от разбиения выбоки на обучающую и валидационную, что так же добавляет элемент случайности в вычисление итогового качества."
   ]
  },
  {
   "cell_type": "code",
   "execution_count": null,
   "metadata": {},
   "outputs": [],
   "source": []
  }
 ],
 "metadata": {
  "kernelspec": {
   "display_name": "Python 3 (ipykernel)",
   "language": "python",
   "name": "python3"
  },
  "language_info": {
   "codemirror_mode": {
    "name": "ipython",
    "version": 3
   },
   "file_extension": ".py",
   "mimetype": "text/x-python",
   "name": "python",
   "nbconvert_exporter": "python",
   "pygments_lexer": "ipython3",
   "version": "3.7.4"
  },
  "widgets": {
   "application/vnd.jupyter.widget-state+json": {
    "state": {},
    "version_major": 2,
    "version_minor": 0
   }
  }
 },
 "nbformat": 4,
 "nbformat_minor": 4
}
